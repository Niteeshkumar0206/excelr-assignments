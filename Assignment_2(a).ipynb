{
  "nbformat": 4,
  "nbformat_minor": 0,
  "metadata": {
    "colab": {
      "provenance": [],
      "authorship_tag": "ABX9TyPgst/PEB7rXU2Q+7H479cG",
      "include_colab_link": true
    },
    "kernelspec": {
      "name": "python3",
      "display_name": "Python 3"
    },
    "language_info": {
      "name": "python"
    }
  },
  "cells": [
    {
      "cell_type": "markdown",
      "metadata": {
        "id": "view-in-github",
        "colab_type": "text"
      },
      "source": [
        "<a href=\"https://colab.research.google.com/github/Niteeshkumar0206/excelr-assignments/blob/main/Assignment_2(a).ipynb\" target=\"_parent\"><img src=\"https://colab.research.google.com/assets/colab-badge.svg\" alt=\"Open In Colab\"/></a>"
      ]
    },
    {
      "cell_type": "markdown",
      "source": [
        "1)"
      ],
      "metadata": {
        "id": "uXnZjrBrvHpf"
      }
    },
    {
      "cell_type": "code",
      "execution_count": 1,
      "metadata": {
        "colab": {
          "base_uri": "https://localhost:8080/",
          "height": 482
        },
        "id": "QHLkdYJKsg5A",
        "outputId": "b1c6cc43-e92c-4b2b-e30d-67700ba004fc"
      },
      "outputs": [
        {
          "output_type": "display_data",
          "data": {
            "text/plain": [
              "<Figure size 640x480 with 1 Axes>"
            ],
            "image/png": "[encoded data removed]"
          },
          "metadata": {}
        },
        {
          "output_type": "stream",
          "name": "stdout",
          "text": [
            "Population mean of the data : 33.2713\n",
            "Standard deviation of the data : 16.3708\n",
            "variance of the data : 268.0035\n"
          ]
        }
      ],
      "source": [
        "import matplotlib.pyplot as plt\n",
        "import numpy as np\n",
        "data = np.array([24.23,25.53,25.41,24.14,29.62,28.25,25.81,24.39,40.26,32.95,91.36,25.99,39.42,26.71,35.00])\n",
        "plt.boxplot(data)\n",
        "plt.show()\n",
        "mu = (data.sum()/len(data))\n",
        "print(f\"Population mean of the data : {mu:.4f}\")\n",
        "sigma = data.std()\n",
        "print(f\"Standard deviation of the data : {sigma:.4f}\")\n",
        "variance = data.var()\n",
        "print(f\"variance of the data : {variance:.4f}\")"
      ]
    },
    {
      "cell_type": "markdown",
      "source": [
        "2)"
      ],
      "metadata": {
        "id": "mdFkJp3XvK5Q"
      }
    },
    {
      "cell_type": "code",
      "source": [
        "a)IQR = (Q3 – Q1) = (12 – 5) = 7(approx.)\n",
        "It tells about middle 50% of the data distribution and this data not affected by outliers."
      ],
      "metadata": {
        "id": "ybMZGXQIumPF"
      },
      "execution_count": null,
      "outputs": []
    },
    {
      "cell_type": "code",
      "source": [
        "b)Positive Skewness, due median is closer to lower quartile."
      ],
      "metadata": {
        "id": "8X_mkQADvSeX"
      },
      "execution_count": null,
      "outputs": []
    },
    {
      "cell_type": "code",
      "source": [
        "c)There will be no outlier in the data and the point will be included in the main body or box of boxplot.\n",
        "The whisker on the right side of the boxplot would likely extend further, and the overall range of data represented by the boxplot would decrease."
      ],
      "metadata": {
        "id": "mUyp4Iqbv0EX"
      },
      "execution_count": null,
      "outputs": []
    },
    {
      "cell_type": "markdown",
      "source": [
        "3)"
      ],
      "metadata": {
        "id": "c_7rnxAAwBO8"
      }
    },
    {
      "cell_type": "code",
      "source": [
        "a)The mode of this dataset would lie around the value of 5 on the X-axis as that is where the highest frequency (around 20) occurs."
      ],
      "metadata": {
        "id": "4EPhz3qsv_7Z"
      },
      "execution_count": null,
      "outputs": []
    },
    {
      "cell_type": "code",
      "source": [
        "b)The dataset is positively skewed, meaning that there are a number of smaller observations stretching the distribution to the right."
      ],
      "metadata": {
        "id": "jDtiRSB_wOWU"
      },
      "execution_count": null,
      "outputs": []
    },
    {
      "cell_type": "code",
      "source": [
        "c)Histogram can provide insights into the distribution and skewness of data, while box-plots can offer additional information about data’s central tendency, variability, and presence of outliers.\n",
        "Box-plots can complement histograms by providing a visual representation of the median, quartiles, and outliers of the data."
      ],
      "metadata": {
        "id": "mnQNSDaNwVGV"
      },
      "execution_count": null,
      "outputs": []
    },
    {
      "cell_type": "markdown",
      "source": [
        "4)"
      ],
      "metadata": {
        "id": "9h6qfOnnws13"
      }
    },
    {
      "cell_type": "code",
      "source": [
        "P (directed correctly) = 1 – 1/200 = 199/200\n",
        "The probability for at least one in five attempted telephone calls reaching the wrong number is:\n",
        "          P (at least one in five is wrong number) = 1 – P (none in five is wrong)                      = 1 – (199/200)^5 ≈ 0.02475\n",
        "Therefore, the probability that at least one in five attempted telephone calls reaches the wrong number is approximately 0.02475.\n"
      ],
      "metadata": {
        "id": "8Mb3UZDbwrtc"
      },
      "execution_count": null,
      "outputs": []
    },
    {
      "cell_type": "markdown",
      "source": [
        "5)"
      ],
      "metadata": {
        "id": "0SYSmaCVw2f8"
      }
    },
    {
      "cell_type": "code",
      "source": [
        "a)The most likely monetary outcome of the business venture is $2,000 as it has the highest probability of 0.3."
      ],
      "metadata": {
        "id": "Mm5TsWNUw1kU"
      },
      "execution_count": null,
      "outputs": []
    },
    {
      "cell_type": "code",
      "source": [
        "b)The venture has a 0.6 probability of either breaking even or making a profit, and a 0.2 probability of making a loss. So, it is more likely to be successful than unsuccessful."
      ],
      "metadata": {
        "id": "bGGuQ5Mgw-U_"
      },
      "execution_count": null,
      "outputs": []
    },
    {
      "cell_type": "code",
      "source": [
        "c)The long-term average earning can be calculated by multiplying each outcome by its probability and summing those products:\n",
        "  x=(-2000*0.1)+(-1000*0.1)+(0*0.2)+(1000*0.2)+(2000*0.3)+(3000*0.1)\n",
        "  x=800\n",
        "  Therefore, the average earning is equals to $800."
      ],
      "metadata": {
        "id": "ayY2TNdFx-Rp"
      },
      "execution_count": null,
      "outputs": []
    },
    {
      "cell_type": "code",
      "source": [
        "d)The expected value is $800, the standard deviation, which measures the risk involved in this venture, is approximately $1280.62.\n",
        "The higher the standard deviation, the higher the risk. In this case, the risk is relatively high."
      ],
      "metadata": {
        "id": "bJ4EtzuSyR2m"
      },
      "execution_count": null,
      "outputs": []
    }
  ]
}