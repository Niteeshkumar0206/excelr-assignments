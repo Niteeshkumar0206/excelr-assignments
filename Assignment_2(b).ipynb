{
  "nbformat": 4,
  "nbformat_minor": 0,
  "metadata": {
    "colab": {
      "provenance": [],
      "authorship_tag": "ABX9TyOMx/rpWAYcXC/0LkmvacyW",
      "include_colab_link": true
    },
    "kernelspec": {
      "name": "python3",
      "display_name": "Python 3"
    },
    "language_info": {
      "name": "python"
    }
  },
  "cells": [
    {
      "cell_type": "markdown",
      "metadata": {
        "id": "view-in-github",
        "colab_type": "text"
      },
      "source": [
        "<a href=\"https://colab.research.google.com/github/Niteeshkumar0206/excelr-assignments/blob/main/Assignment_2(b).ipynb\" target=\"_parent\"><img src=\"https://colab.research.google.com/assets/colab-badge.svg\" alt=\"Open In Colab\"/></a>"
      ]
    },
    {
      "cell_type": "markdown",
      "source": [
        "1)"
      ],
      "metadata": {
        "id": "evy7gyfH144E"
      }
    },
    {
      "cell_type": "code",
      "execution_count": null,
      "metadata": {
        "id": "6bd3M-i713Xz"
      },
      "outputs": [],
      "source": [
        "B. 0.2676\n",
        "Explanation:-\n",
        "Given, mu = 45\n",
        "Sigma = 8\n",
        "Time available = 60 – 10 = 50\n",
        "Probability of work done in 50min:\n",
        "Z_val = (x_bar – mu)/sigma\n",
        "Z_val = 0.625\n",
        "Probability of work done in 50 min = 0.7340              (from stats.norm.cdf(z_val)\n",
        "Probability of work done not in 50 min = 1 – (Probability of work done in 50 min)\n",
        " = 1 – 0.7340\n",
        " = 0.266\n",
        " ~ 0.2076.\n"
      ]
    },
    {
      "cell_type": "markdown",
      "source": [
        "2)"
      ],
      "metadata": {
        "id": "SMrugXzg2AKs"
      }
    },
    {
      "cell_type": "code",
      "source": [
        "a)False,the mean splits the distribution into two equal halves. Therefore, there are as many employees between the mean age (38) and 44 as there are employees older than 44."
      ],
      "metadata": {
        "id": "T4WMgJBv1_Fg"
      },
      "execution_count": null,
      "outputs": []
    },
    {
      "cell_type": "code",
      "source": [
        "b)True.\n",
        "Z_val = (x_bar – mu)/sigma\n",
        "The probability value of z value -1.33 is 0.0918. Which represents the probability that an employee will be under 30 years old.Therefore, the expected number of employees under 30 is:\n",
        "0.0918*400=36.72"
      ],
      "metadata": {
        "id": "B3pc08PM2PyS"
      },
      "execution_count": null,
      "outputs": []
    },
    {
      "cell_type": "markdown",
      "source": [
        "3)"
      ],
      "metadata": {
        "id": "kC9pPg5p2dGI"
      }
    },
    {
      "cell_type": "code",
      "source": [
        "2X1 is normally distributed with mean 2μ and variance 4σ².\n",
        "X1 + X2 is normally distributed with mean 2μ and variance 2σ².\n",
        "While both expressions have the same mean, but they have different variances.\n",
        "The variance of 2X1 is larger, indicating that values of 2X1 are more spread out around the mean than values of X1 + X2.\n",
        "This is because 2X1 represents a scaling of a single random variable, while X1 + X2 represents the sum of two independent random variables.\n"
      ],
      "metadata": {
        "id": "Slupoy7x2cCP"
      },
      "execution_count": null,
      "outputs": []
    },
    {
      "cell_type": "markdown",
      "source": [
        "4)"
      ],
      "metadata": {
        "id": "d3x_BF_-28wz"
      }
    },
    {
      "cell_type": "code",
      "source": [
        "Option E.\n",
        " μ = 100 and σ² = 20, sigma = √20 = 4.47\n",
        "P(a < X < b) = 0.99, given condition\n",
        "P(a < X < b) = P(X < b) - P(X < a)\n",
        "Because a and b are symmetric about the mean, P(X < b) = 1 - P(X < a). Therefore, we have:\n",
        "P(a < X < b) = 2P(X < b) - 1\n",
        "this equal to 0.99, we get P(X < b) = (0.99 + 1) / 2 = 0.995.\n",
        "  a = 2μ - b                                            b = μ + σZ\n",
        "where z = 0.84 from stats.norm.cdf(0.995)\n",
        "a,b = (96.2452,103.7548) ~ (90.2452,109.7548).\n"
      ],
      "metadata": {
        "id": "CRKQP1fE27jr"
      },
      "execution_count": null,
      "outputs": []
    },
    {
      "cell_type": "markdown",
      "source": [
        "5)"
      ],
      "metadata": {
        "id": "QVxmPdum3IoN"
      }
    },
    {
      "cell_type": "code",
      "source": [
        "a)Total profits = profit_1 + profit_2 i.e.,\n",
        " total profit = N(5 + 7, 3 + 4) = N(12, 7), standard deviation is √7  = 2.65.\n",
        "A range centered on the mean that contains 95% probability for a normal distribution extends approximately 1.96 standard deviations on either side of the mean. So,\n",
        "(12 - 1.96 * 2.65, 12 + 1.96 * 2.65) = (6.81, 17.19).\n",
        "Converting million dollars into million rupees (1$ = 80 approx.)\n",
        "(80*6.81, 80*17.19) = (54408, 1375.2) million rupees.\n"
      ],
      "metadata": {
        "id": "iZ2Mmufy3HSI"
      },
      "execution_count": null,
      "outputs": []
    },
    {
      "cell_type": "code",
      "source": [
        "b)The 5th percentile of profit is the value below which 5% of the observations may fall.\n",
        "For a normal distribution, this is given by the mean minus 1.645 standard deviations (since 1.645 is the z-score that corresponds to a cumulative probability of 0.05).\n",
        "So, the 5th percentile in dollars is 12 - 1.645 * 2.65 = 7.63.Converting to million rupees = 7.63 *80 = 610.4\n"
      ],
      "metadata": {
        "id": "amSbHK9t3SwA"
      },
      "execution_count": null,
      "outputs": []
    },
    {
      "cell_type": "code",
      "source": [
        "c)For Profit1 ~ N(5, 3), the z-score at zero is (0 - 5) / √3 = -2.89, which corresponds to a probability of approximately 0.002.\n",
        "For Profit2 ~ N(7, 4), the z-score at zero is (0 - 7) / √4 = -3.5, which corresponds to a probability of approximately 0.0002.\n",
        "So, the first division has a larger probability of making a loss in a given year.\n"
      ],
      "metadata": {
        "id": "vjm4yud73nzE"
      },
      "execution_count": null,
      "outputs": []
    }
  ]
}