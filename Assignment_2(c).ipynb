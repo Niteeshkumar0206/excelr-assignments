{
  "nbformat": 4,
  "nbformat_minor": 0,
  "metadata": {
    "colab": {
      "provenance": [],
      "authorship_tag": "ABX9TyNjH5w4+334oT/mFrk/lO/6",
      "include_colab_link": true
    },
    "kernelspec": {
      "name": "python3",
      "display_name": "Python 3"
    },
    "language_info": {
      "name": "python"
    }
  },
  "cells": [
    {
      "cell_type": "markdown",
      "metadata": {
        "id": "view-in-github",
        "colab_type": "text"
      },
      "source": [
        "<a href=\"https://colab.research.google.com/github/Niteeshkumar0206/excelr-assignments/blob/main/Assignment_2(c).ipynb\" target=\"_parent\"><img src=\"https://colab.research.google.com/assets/colab-badge.svg\" alt=\"Open In Colab\"/></a>"
      ]
    },
    {
      "cell_type": "markdown",
      "source": [
        "1)"
      ],
      "metadata": {
        "id": "JC-BwVWW7y1G"
      }
    },
    {
      "cell_type": "code",
      "execution_count": null,
      "metadata": {
        "id": "WjXLKDiS7xnz"
      },
      "outputs": [],
      "source": [
        "(a) False.\n",
        "\n",
        "The sample size needed to produce representative results depends on various factors,\n",
        "such as the population size, the degree of variability in the population, and the desired level of precision."
      ]
    },
    {
      "cell_type": "code",
      "source": [
        "(b)False.\n",
        "\n",
        "The sampling frame is a list of the population from which the sample is drawn.\n",
        "It includes all the elements or units that have a chance of being selected for the survey. It does not consist of those who responded to the survey or not."
      ],
      "metadata": {
        "id": "xx9jmiC78DbK"
      },
      "execution_count": null,
      "outputs": []
    },
    {
      "cell_type": "code",
      "source": [
        "(c)False.\n",
        "\n",
        "The accuracy of the survey depends on various factors, such as the sample size, sampling method, response rate, and the quality of the data collection.\n",
        "While a larger sample size can improve the accuracy, it is not the only determinant of a more accurate impression of the population."
      ],
      "metadata": {
        "id": "RPJPgazM8NlM"
      },
      "execution_count": null,
      "outputs": []
    },
    {
      "cell_type": "markdown",
      "source": [
        "2)"
      ],
      "metadata": {
        "id": "dIYDc_Ta8Xfi"
      }
    },
    {
      "cell_type": "code",
      "source": [
        "The population: The population in this survey is the readers of PC Magazine.\n",
        "\n",
        "-The parameter of interest: The parameter of interest is the average satisfaction rating of all PC Magazine readers for the Kodak compact digital camera.\n",
        "\n",
        "-The sampling frame: The sampling frame is a list of all the readers of PC Magazine who received the survey invitation.\n",
        "\n",
        "-The sample size: The sample size is 225.\n",
        "\n",
        "-The sampling design: The sampling design is a self-selected survey where all the readers of PC Magazine were invited to participate in the survey, and only those who chose to participate were included in the sample.\n",
        "\n",
        "=Potential sources of bias or other problems with the survey or sample:\n",
        "\n",
        "-Response rate\n",
        "\n",
        "-Rating scale\n",
        "\n",
        "-Limited generalizability\n",
        "\n",
        "-Time of survey"
      ],
      "metadata": {
        "id": "7X1KXRbG8W1D"
      },
      "execution_count": null,
      "outputs": []
    },
    {
      "cell_type": "markdown",
      "source": [
        "3)"
      ],
      "metadata": {
        "id": "Kp9BTJlC8hMe"
      }
    },
    {
      "cell_type": "code",
      "source": [
        "(a)True.\n",
        "\n",
        "The confidence interval represents a range of plausible values for the population mean, so $100 is a plausible value for the population mean at the 95% confidence level."
      ],
      "metadata": {
        "id": "FR96Z03R8gTX"
      },
      "execution_count": null,
      "outputs": []
    },
    {
      "cell_type": "code",
      "source": [
        "(b)True.\n",
        "\n",
        "The confidence interval indicates that the population proportion of moviegoers who purchase concessions is between 30% and 45%, and since 30% is less than 50%,\n",
        " it means that fewer than half of all moviegoers purchase concessions."
      ],
      "metadata": {
        "id": "awMT0bJ18qr8"
      },
      "execution_count": null,
      "outputs": []
    },
    {
      "cell_type": "code",
      "source": [
        "c)True.\n",
        "\n",
        "The confidence interval for the population mean is based on the assumption of normality of the sample data,\n",
        "and if the sample data are not normally distributed, the confidence interval may not be accurate."
      ],
      "metadata": {
        "id": "AwE05LHD8x32"
      },
      "execution_count": null,
      "outputs": []
    },
    {
      "cell_type": "markdown",
      "source": [
        "4)"
      ],
      "metadata": {
        "id": "hPRl9pPa88--"
      }
    },
    {
      "cell_type": "code",
      "source": [
        "The answer 1 as it is the most high value avliable in the option."
      ],
      "metadata": {
        "id": "0WY0MOHS88CP"
      },
      "execution_count": null,
      "outputs": []
    },
    {
      "cell_type": "markdown",
      "source": [
        "5)"
      ],
      "metadata": {
        "id": "3KGaLrEB9G79"
      }
    },
    {
      "cell_type": "code",
      "source": [
        "a) No, Microsoft cannot conclude that Mozilla has a less than 5% share of the market if the sample is based on 2,000 users.\n",
        "The p-value for the sample is 0.2058, which is greater than the significance level of 0.05.\n",
        "Therefore, Microsoft should not reject the null hypothesis that the Mozilla Firefox browser has a market share of 5% or more."
      ],
      "metadata": {
        "id": "9XTUrkfN9GNH"
      },
      "execution_count": null,
      "outputs": []
    },
    {
      "cell_type": "code",
      "source": [
        "b)Yes, if WebSideStory's sample includes all the daily Internet users, then Microsoft can conclude that Mozilla has a less than 5% share of the market.\n",
        "Since the sample is not based on a random selection of users, the p-value is not applicable in this scenario.\n",
        "If the sample includes all daily Internet users, then the 4.6% market share is an accurate representation of Mozilla's market share."
      ],
      "metadata": {
        "id": "lgyQ_oe09V95"
      },
      "execution_count": null,
      "outputs": []
    },
    {
      "cell_type": "markdown",
      "source": [
        "6)"
      ],
      "metadata": {
        "id": "Wazis3Ru9qSO"
      }
    },
    {
      "cell_type": "code",
      "source": [
        "The procedure that produced this interval generates ranges that hold the population mean for 95% of samples. is the correct option."
      ],
      "metadata": {
        "id": "ZCSmn3y99eqk"
      },
      "execution_count": null,
      "outputs": []
    },
    {
      "cell_type": "markdown",
      "source": [
        "7)"
      ],
      "metadata": {
        "id": "nKlf1wa19wPy"
      }
    },
    {
      "cell_type": "code",
      "source": [
        "Both are equal.\n",
        "\n",
        "The t-interval and the z-interval will have the same length when the sample size is large or when the population standard deviation (σ) is known.\n",
        "In this case, the problem states that σ = s, which means that the sample standard deviation is equal to the population standard deviation.\n",
        "Therefore, the t-interval and the z-interval will be equal.\n",
        "\n"
      ],
      "metadata": {
        "id": "MqEqLl6R9tbl"
      },
      "execution_count": null,
      "outputs": []
    },
    {
      "cell_type": "markdown",
      "source": [
        "8)"
      ],
      "metadata": {
        "id": "sUy0OYqa98wQ"
      }
    },
    {
      "cell_type": "code",
      "source": [
        "Margin of error = z * sqrt[(p * (1-p)) / n]\n",
        "\n",
        "We want the margin of error to be no more than 4%, so we can set up the following equation:\n",
        "\n",
        "0.04 = 1.96 * sqrt[(0.5 * (1-0.5)) / n]\n",
        "\n",
        "Solving for n, we get:\n",
        "\n",
        "n = (1.96 * sqrt[(0.5 * (1-0.5)) / 0.04])^2\n",
        "\n",
        "n = 600.25\n",
        "\n",
        "therefore we need to contact at least 600 employees."
      ],
      "metadata": {
        "id": "9jGNFN-q98KA"
      },
      "execution_count": null,
      "outputs": []
    },
    {
      "cell_type": "markdown",
      "source": [
        "9)"
      ],
      "metadata": {
        "id": "5n8fBbhO-OkH"
      }
    },
    {
      "cell_type": "code",
      "source": [
        "(n = \\frac{{(2.33)^2 \\times 0.5(1 - 0.5)}}{{(0.04)^2}} = 543)\n",
        "\n",
        "Therefore, the minimum sample size required for a 98% confidence level is 543."
      ],
      "metadata": {
        "id": "sxfn7Ltw-JJ1"
      },
      "execution_count": null,
      "outputs": []
    }
  ]
}