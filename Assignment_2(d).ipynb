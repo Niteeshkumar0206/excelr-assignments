{
  "nbformat": 4,
  "nbformat_minor": 0,
  "metadata": {
    "colab": {
      "provenance": [],
      "authorship_tag": "ABX9TyN8L4a4cbO+Nxfz2PBcooFK",
      "include_colab_link": true
    },
    "kernelspec": {
      "name": "python3",
      "display_name": "Python 3"
    },
    "language_info": {
      "name": "python"
    }
  },
  "cells": [
    {
      "cell_type": "markdown",
      "metadata": {
        "id": "view-in-github",
        "colab_type": "text"
      },
      "source": [
        "<a href=\"https://colab.research.google.com/github/Niteeshkumar0206/excelr-assignments/blob/main/Assignment_2(d).ipynb\" target=\"_parent\"><img src=\"https://colab.research.google.com/assets/colab-badge.svg\" alt=\"Open In Colab\"/></a>"
      ]
    },
    {
      "cell_type": "markdown",
      "source": [
        "1)"
      ],
      "metadata": {
        "id": "KEshxlFn_c17"
      }
    },
    {
      "cell_type": "code",
      "execution_count": null,
      "metadata": {
        "id": "6oVVvEA3-kTv"
      },
      "outputs": [],
      "source": [
        "(1)Are nearly normal? Plot 1 and Plot 3 suggest that the data is nearly normal."
      ]
    },
    {
      "cell_type": "code",
      "source": [
        "(2)\n",
        "\n",
        "None of the plots show a bimodal distribution."
      ],
      "metadata": {
        "id": "IQvZ3SbI_koM"
      },
      "execution_count": null,
      "outputs": []
    },
    {
      "cell_type": "code",
      "source": [
        "(3)\n",
        "\n",
        "Plot 2 appears to be skewed towards the right, indicating positive skewness."
      ],
      "metadata": {
        "id": "ANIXgRLT_vpF"
      },
      "execution_count": null,
      "outputs": []
    },
    {
      "cell_type": "code",
      "source": [
        "(4)\n",
        "\n",
        "Plot 4 shows potential outliers on both the lower and upper ends of the distribution.\n",
        "However, Plot 2 also shows a potential outlier on the lower end of the distribution, while Plot 3 shows a potential outlier on the upper end."
      ],
      "metadata": {
        "id": "7WGjOaWB_3k0"
      },
      "execution_count": null,
      "outputs": []
    },
    {
      "cell_type": "markdown",
      "source": [
        "2)"
      ],
      "metadata": {
        "id": "nOknjj8yAEfr"
      }
    },
    {
      "cell_type": "code",
      "source": [
        "(a)True.\n",
        "\n",
        "The sampling distribution of the sample mean follows a normal distribution if the population is normally distributed\n",
        " (i.e., bell-shaped curve) or if the sample size is large enough."
      ],
      "metadata": {
        "id": "fZwNdEsaACka"
      },
      "execution_count": null,
      "outputs": []
    },
    {
      "cell_type": "code",
      "source": [
        "(b)False.\n",
        "\n",
        "The standard error of the daily average is calculated by dividing the population standard deviation by the square root of the sample size, which is:\n",
        "\n",
        "σ / sqrt(n) = 5 lbs / sqrt(25) = 5 lbs / 5 = 1 lb\n",
        "\n",
        "Therefore, the standard error of the daily average is actually 1 lb, not 1."
      ],
      "metadata": {
        "id": "gFwKDjcDANji"
      },
      "execution_count": null,
      "outputs": []
    },
    {
      "cell_type": "markdown",
      "source": [
        "3)"
      ],
      "metadata": {
        "id": "U0Cf24YQAcYG"
      }
    },
    {
      "cell_type": "code",
      "source": [
        "First, we need to calculate the z-scores for the values of  45and 55, using the formula:\n",
        "\n",
        "z = (X - μ) / (σ / sqrt(n))\n",
        "\n",
        "where X is the value of interest, μ is the population mean, σ is the population standard deviation, and n is the sample size.\n",
        "\n",
        "For X = $45, the z-score is:\n",
        "\n",
        "z = (45 - 50) / (40 / sqrt(100)) z = -5 / 4 z = -1.25\n",
        "\n",
        "For X = $55, the z-score is:\n",
        "\n",
        "z = (55 - 50) / (40 / sqrt(100)) z = 5 / 4 z = 1.25\n",
        "\n",
        "Now, we can find the probability that the mean transaction amount of the sample is between  45and 55, by calculating the area under the standard normal curve between the two z-scores.\n",
        "\n",
        "P(-1.25 < Z < 1.25) = 0.8944 - 0.1056 = 0.7888\n",
        "\n",
        "The probability that in any given week, there will be an investigation is therefore:\n",
        "\n",
        "1 - 0.7888 = 0.2112\n",
        "\n",
        "Therefore, the answer is (21.1%)."
      ],
      "metadata": {
        "id": "JlAINn2cAUQe"
      },
      "execution_count": null,
      "outputs": []
    },
    {
      "cell_type": "markdown",
      "source": [
        "4)"
      ],
      "metadata": {
        "id": "ssG5G_D8AgCU"
      }
    },
    {
      "cell_type": "code",
      "source": [
        "Let X1 = 45 and X2 = 55, and let μ = 50 and σ = 40.\n",
        "\n",
        "We want to find n such that:\n",
        "\n",
        "P(X1 < X̄ < X2) = 0.95\n",
        "\n",
        "where X̄ is the sample mean.\n",
        "\n",
        "Using the z-score formula, we have:\n",
        "\n",
        "0.95 = P( (X1 - μ) / (σ / √n) < Z < (X2 - μ) / (σ / √n) )\n",
        "\n",
        "where Z is the standard normal distribution.\n",
        "\n",
        "Solving for n, we get:\n",
        "\n",
        "n = ( (Z_alpha/2) * σ / (X2 - X1) )^2\n",
        "\n",
        "where Z_alpha/2 is the z-score corresponding to a 95% confidence level, which is 1.96.\n",
        "\n",
        "Plugging in the values, we get:\n",
        "\n",
        "n = ( (1.96 * 40) / (55 - 45) )^2\n",
        "\n",
        "n = 196\n",
        "\n",
        "Therefore, the minimum sample size is 196 transactions.\n",
        "\n",
        "The answer is:196"
      ],
      "metadata": {
        "id": "6qMS_EtaAfYX"
      },
      "execution_count": null,
      "outputs": []
    },
    {
      "cell_type": "markdown",
      "source": [
        "5)"
      ],
      "metadata": {
        "id": "2FRho89LAwe3"
      }
    },
    {
      "cell_type": "code",
      "source": [
        "The mean score in any sample will be 720.\n",
        "\n",
        "The mean score of the population is 720, and the sample is selected randomly, so the mean score of any sample is likely to be around 720."
      ],
      "metadata": {
        "id": "rRO7TcPtAp4C"
      },
      "execution_count": null,
      "outputs": []
    }
  ]
}