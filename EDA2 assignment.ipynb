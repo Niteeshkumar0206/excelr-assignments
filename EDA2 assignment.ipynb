{
  "nbformat": 4,
  "nbformat_minor": 0,
  "metadata": {
    "colab": {
      "provenance": []
    },
    "kernelspec": {
      "name": "python3",
      "display_name": "Python 3"
    },
    "language_info": {
      "name": "python"
    }
  },
  "cells": [
    {
      "cell_type": "code",
      "execution_count": 1,
      "metadata": {
        "id": "UNi9AHeTe1y9"
      },
      "outputs": [],
      "source": [
        "import pandas as pd\n",
        "import numpy as np\n",
        "from sklearn.preprocessing import StandardScaler, MinMaxScaler, OneHotEncoder, LabelEncoder\n",
        "from sklearn.ensemble import IsolationForest\n"
      ]
    },
    {
      "cell_type": "code",
      "source": [
        "# Load the dataset\n",
        "df = pd.read_csv(\"adult_with_headers.csv\")"
      ],
      "metadata": {
        "id": "mSdAEOfIfs9A"
      },
      "execution_count": 2,
      "outputs": []
    },
    {
      "cell_type": "code",
      "source": [
        "# Display summary statistics\n",
        "summary_stats = df.describe()\n",
        "print(summary_stats)"
      ],
      "metadata": {
        "colab": {
          "base_uri": "https://localhost:8080/"
        },
        "id": "MIl2oTOsfxUW",
        "outputId": "a53ed539-1f9b-483c-96c3-34ed37d4ffc7"
      },
      "execution_count": 3,
      "outputs": [
        {
          "output_type": "stream",
          "name": "stdout",
          "text": [
            "                age        fnlwgt  education_num  capital_gain  capital_loss  \\\n",
            "count  32561.000000  3.256100e+04   32561.000000  32561.000000  32561.000000   \n",
            "mean      38.581647  1.897784e+05      10.080679   1077.648844     87.303830   \n",
            "std       13.640433  1.055500e+05       2.572720   7385.292085    402.960219   \n",
            "min       17.000000  1.228500e+04       1.000000      0.000000      0.000000   \n",
            "25%       28.000000  1.178270e+05       9.000000      0.000000      0.000000   \n",
            "50%       37.000000  1.783560e+05      10.000000      0.000000      0.000000   \n",
            "75%       48.000000  2.370510e+05      12.000000      0.000000      0.000000   \n",
            "max       90.000000  1.484705e+06      16.000000  99999.000000   4356.000000   \n",
            "\n",
            "       hours_per_week  \n",
            "count    32561.000000  \n",
            "mean        40.437456  \n",
            "std         12.347429  \n",
            "min          1.000000  \n",
            "25%         40.000000  \n",
            "50%         40.000000  \n",
            "75%         45.000000  \n",
            "max         99.000000  \n"
          ]
        }
      ]
    },
    {
      "cell_type": "code",
      "source": [
        "# Check for missing values\n",
        "missing_values = df.isnull().sum()\n",
        "print(missing_values)"
      ],
      "metadata": {
        "colab": {
          "base_uri": "https://localhost:8080/"
        },
        "id": "A22LJMeTfz9R",
        "outputId": "87f3f157-f327-49de-e45c-b16f12ed1f1c"
      },
      "execution_count": 4,
      "outputs": [
        {
          "output_type": "stream",
          "name": "stdout",
          "text": [
            "age               0\n",
            "workclass         0\n",
            "fnlwgt            0\n",
            "education         0\n",
            "education_num     0\n",
            "marital_status    0\n",
            "occupation        0\n",
            "relationship      0\n",
            "race              0\n",
            "sex               0\n",
            "capital_gain      0\n",
            "capital_loss      0\n",
            "hours_per_week    0\n",
            "native_country    0\n",
            "income            0\n",
            "dtype: int64\n"
          ]
        }
      ]
    },
    {
      "cell_type": "code",
      "source": [
        "# Check data types\n",
        "data_types = df.dtypes\n",
        "print(data_types)"
      ],
      "metadata": {
        "colab": {
          "base_uri": "https://localhost:8080/"
        },
        "id": "Jx0BkaWIf3Ck",
        "outputId": "dd1f2eb8-16a5-43db-9114-a4ddbe456b36"
      },
      "execution_count": 5,
      "outputs": [
        {
          "output_type": "stream",
          "name": "stdout",
          "text": [
            "age                int64\n",
            "workclass         object\n",
            "fnlwgt             int64\n",
            "education         object\n",
            "education_num      int64\n",
            "marital_status    object\n",
            "occupation        object\n",
            "relationship      object\n",
            "race              object\n",
            "sex               object\n",
            "capital_gain       int64\n",
            "capital_loss       int64\n",
            "hours_per_week     int64\n",
            "native_country    object\n",
            "income            object\n",
            "dtype: object\n"
          ]
        }
      ]
    },
    {
      "cell_type": "code",
      "source": [
        "#shape of dataset\n",
        "print(df.shape)"
      ],
      "metadata": {
        "colab": {
          "base_uri": "https://localhost:8080/"
        },
        "id": "yaKll_CHf6jw",
        "outputId": "3c62c2ba-7c84-4ea6-9c64-58afe7510338"
      },
      "execution_count": 6,
      "outputs": [
        {
          "output_type": "stream",
          "name": "stdout",
          "text": [
            "(32561, 15)\n"
          ]
        }
      ]
    },
    {
      "cell_type": "code",
      "source": [
        "print(df.columns)"
      ],
      "metadata": {
        "colab": {
          "base_uri": "https://localhost:8080/"
        },
        "id": "9f6owYiwf-cb",
        "outputId": "13522850-fa5a-4505-b9dc-ac301db0afe8"
      },
      "execution_count": 7,
      "outputs": [
        {
          "output_type": "stream",
          "name": "stdout",
          "text": [
            "Index(['age', 'workclass', 'fnlwgt', 'education', 'education_num',\n",
            "       'marital_status', 'occupation', 'relationship', 'race', 'sex',\n",
            "       'capital_gain', 'capital_loss', 'hours_per_week', 'native_country',\n",
            "       'income'],\n",
            "      dtype='object')\n"
          ]
        }
      ]
    },
    {
      "cell_type": "code",
      "source": [
        "# Separate numerical features\n",
        "numerical_features = ['age', 'fnlwgt', 'education_num', 'capital_gain', 'capital_loss', 'hours_per_week']"
      ],
      "metadata": {
        "id": "wOsMwySwgBSl"
      },
      "execution_count": 8,
      "outputs": []
    },
    {
      "cell_type": "code",
      "source": [
        "# Standard Scaling\n",
        "scaler_standard = StandardScaler()\n",
        "df[numerical_features] = scaler_standard.fit_transform(df[numerical_features])"
      ],
      "metadata": {
        "id": "lCzK452ngMCJ"
      },
      "execution_count": 9,
      "outputs": []
    },
    {
      "cell_type": "code",
      "source": [
        "# Min-Max Scaling\n",
        "scaler_minmax = MinMaxScaler()\n",
        "df[numerical_features] = scaler_minmax.fit_transform(df[numerical_features])"
      ],
      "metadata": {
        "id": "au4wYTHsgPCD"
      },
      "execution_count": 10,
      "outputs": []
    },
    {
      "cell_type": "code",
      "source": [
        "# One-Hot Encoding for categorical variables with less than 5 categories\n",
        "categorical_features_onehot = ['workclass', 'education', 'marital_status', 'relationship', 'race', 'sex']\n",
        "encoder_onehot = OneHotEncoder()\n",
        "encoded_onehot = encoder_onehot.fit_transform(df[categorical_features_onehot])"
      ],
      "metadata": {
        "id": "oUJc_bMWgkk9"
      },
      "execution_count": 11,
      "outputs": []
    },
    {
      "cell_type": "code",
      "source": [
        "# Label Encoding for categorical variables with more than 5 categories\n",
        "categorical_features_label = ['occupation', 'native_country']\n",
        "encoder_label = LabelEncoder()\n",
        "for feature in categorical_features_label:\n",
        "    df[feature] = encoder_label.fit_transform(df[feature])"
      ],
      "metadata": {
        "id": "oSDNJbQmgp0C"
      },
      "execution_count": 12,
      "outputs": []
    },
    {
      "cell_type": "code",
      "source": [
        "# Create new features\n",
        "df['capital_diff'] = df['capital_gain'] - df['capital_loss']\n",
        "df['age_hours_ratio'] = df['age'] / df['hours_per_week']\n",
        "\n",
        "# Apply log transformation to 'capital_gain'\n",
        "import numpy as np\n",
        "df['capital_gain_log'] = np.log(df['capital_gain'] + 1)  # Adding 1 to avoid log(0)"
      ],
      "metadata": {
        "id": "LYpRGb7tguRI"
      },
      "execution_count": 13,
      "outputs": []
    },
    {
      "cell_type": "code",
      "source": [
        "# Define the Isolation Forest model\n",
        "clf = IsolationForest(random_state=42, contamination=0.01)  # Contamination is the proportion of outliers\n",
        "\n",
        "# Fit the Isolation Forest model to numerical features\n",
        "clf.fit(df[numerical_features])\n",
        "\n",
        "# Predict outliers\n",
        "outliers = clf.predict(df[numerical_features])\n",
        "\n",
        "# Remove outliers\n",
        "df_cleaned = df[outliers != -1]\n",
        "\n",
        "# Print the shape of the cleaned dataset\n",
        "print(\"Original dataset shape:\", df.shape)\n",
        "print(\"Cleaned dataset shape:\", df_cleaned.shape)"
      ],
      "metadata": {
        "colab": {
          "base_uri": "https://localhost:8080/"
        },
        "id": "6H-p15ePg4ij",
        "outputId": "06108d5b-f76e-4378-b61b-cc8123b9e39e"
      },
      "execution_count": 14,
      "outputs": [
        {
          "output_type": "stream",
          "name": "stderr",
          "text": [
            "/usr/local/lib/python3.10/dist-packages/sklearn/base.py:439: UserWarning: X does not have valid feature names, but IsolationForest was fitted with feature names\n",
            "  warnings.warn(\n"
          ]
        },
        {
          "output_type": "stream",
          "name": "stdout",
          "text": [
            "Original dataset shape: (32561, 18)\n",
            "Cleaned dataset shape: (32235, 18)\n"
          ]
        }
      ]
    },
    {
      "cell_type": "code",
      "source": [
        "# Compute Pearson correlation coefficient manually\n",
        "correlation_matrix = df_cleaned[numerical_features].corr()\n",
        "\n",
        "# Square the absolute values of the correlation coefficients to get the PPS\n",
        "pps_matrix = correlation_matrix.applymap(lambda x: np.square(abs(x)))\n",
        "\n",
        "print(pps_matrix)"
      ],
      "metadata": {
        "colab": {
          "base_uri": "https://localhost:8080/"
        },
        "id": "4Bj2amv5hDv2",
        "outputId": "b737db35-1ccf-4bc2-8cde-a305250e7507"
      },
      "execution_count": 15,
      "outputs": [
        {
          "output_type": "stream",
          "name": "stdout",
          "text": [
            "                     age    fnlwgt  education_num  capital_gain  capital_loss  \\\n",
            "age             1.000000  0.005976       0.000988      0.011704      0.001659   \n",
            "fnlwgt          0.005976  1.000000       0.001922      0.000067      0.000176   \n",
            "education_num   0.000988  0.001922       1.000000      0.020163      0.006228   \n",
            "capital_gain    0.011704  0.000067       0.020163      1.000000      0.002273   \n",
            "capital_loss    0.001659  0.000176       0.006228      0.002273      1.000000   \n",
            "hours_per_week  0.005061  0.000467       0.020770      0.006858      0.002087   \n",
            "\n",
            "                hours_per_week  \n",
            "age                   0.005061  \n",
            "fnlwgt                0.000467  \n",
            "education_num         0.020770  \n",
            "capital_gain          0.006858  \n",
            "capital_loss          0.002087  \n",
            "hours_per_week        1.000000  \n"
          ]
        }
      ]
    },
    {
      "cell_type": "code",
      "source": [],
      "metadata": {
        "id": "sKjqNdMPhKfB"
      },
      "execution_count": null,
      "outputs": []
    }
  ]
}