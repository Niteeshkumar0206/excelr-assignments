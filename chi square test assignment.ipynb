{
  "nbformat": 4,
  "nbformat_minor": 0,
  "metadata": {
    "colab": {
      "provenance": []
    },
    "kernelspec": {
      "name": "python3",
      "display_name": "Python 3"
    },
    "language_info": {
      "name": "python"
    }
  },
  "cells": [
    {
      "cell_type": "code",
      "execution_count": null,
      "metadata": {
        "id": "9jfa8bN-ORi-"
      },
      "outputs": [],
      "source": [
        "import numpy as np\n",
        "from scipy.stats import chi2"
      ]
    },
    {
      "cell_type": "code",
      "source": [
        "# Given data\n",
        "observed = np.array([[50, 70],\n",
        "                     [80, 100],\n",
        "                     [60, 90],\n",
        "                     [30, 50],\n",
        "                     [20, 50]])"
      ],
      "metadata": {
        "id": "dHt85afLQCEi"
      },
      "execution_count": null,
      "outputs": []
    },
    {
      "cell_type": "code",
      "source": [
        "# Calculate expected frequencies\n",
        "row_totals = observed.sum(axis=1)\n",
        "col_totals = observed.sum(axis=0)\n",
        "total = observed.sum()\n",
        "expected = np.outer(row_totals, col_totals) / total"
      ],
      "metadata": {
        "id": "b_uZUdsOQM1L"
      },
      "execution_count": null,
      "outputs": []
    },
    {
      "cell_type": "code",
      "source": [
        "# Calculate chi-square statistic\n",
        "chi2_statistic = np.sum((observed - expected)**2 / expected)"
      ],
      "metadata": {
        "id": "2y1OGnrPQfGV"
      },
      "execution_count": null,
      "outputs": []
    },
    {
      "cell_type": "code",
      "source": [
        "# Degrees of freedom\n",
        "degrees_of_freedom = (observed.shape[0] - 1) * (observed.shape[1] - 1)"
      ],
      "metadata": {
        "id": "b5FP502LQn5H"
      },
      "execution_count": null,
      "outputs": []
    },
    {
      "cell_type": "code",
      "source": [
        "# Determine critical value\n",
        "alpha = 0.05\n",
        "critical_value = chi2.ppf(1 - alpha, degrees_of_freedom)"
      ],
      "metadata": {
        "id": "XGQF0hMsPBEk"
      },
      "execution_count": null,
      "outputs": []
    },
    {
      "cell_type": "code",
      "source": [
        "# Make a decision\n",
        "if chi2_statistic > critical_value:\n",
        "    conclusion = \"Reject the null hypothesis\"\n",
        "else:\n",
        "    conclusion = \"Fail to reject the null hypothesis\"\n",
        "\n",
        "print(\"Chi-Square Statistic:\", chi2_statistic)\n",
        "print(\"Critical Value:\", critical_value)\n",
        "print(\"Conclusion:\", conclusion)"
      ],
      "metadata": {
        "colab": {
          "base_uri": "https://localhost:8080/"
        },
        "id": "Ww6VFSu4PD6M",
        "outputId": "2938d3e2-9470-4995-bd6f-e4a7658c5ec1"
      },
      "execution_count": null,
      "outputs": [
        {
          "output_type": "stream",
          "name": "stdout",
          "text": [
            "Chi-Square Statistic: 5.638227513227513\n",
            "Critical Value: 9.487729036781154\n",
            "Conclusion: Fail to reject the null hypothesis\n"
          ]
        }
      ]
    }
  ]
}